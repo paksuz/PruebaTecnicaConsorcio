{
 "cells": [
  {
   "cell_type": "code",
   "execution_count": 177,
   "id": "18ff991b",
   "metadata": {},
   "outputs": [
    {
     "name": "stdout",
     "output_type": "stream",
     "text": [
      "Case #1: 2\n",
      "Case #2: 1\n",
      "Case #3: 3\n",
      "Case #4: 0\n"
     ]
    }
   ],
   "source": [
    "import re\n",
    "file1 = open('data.txt', 'r')#lectura de datos\n",
    "Lines = [x.strip() for x in file1.readlines()] #parseo de datos y limpieza\n",
    "(l, d, n) = [int(x) for x in Lines[0].split()] #lectura y asignación de variables de entrada\n",
    "words = Lines[1:d+1] #almanenamiento del diccionario\n",
    "for i in range(d+1, d+1+n): #busqueda en transmisiones alienigenas   \n",
    "    p= Lines[i].replace(\"(\",\"[\").replace(\")\",\"]\")  #transformacion a expresion regular\n",
    "    r = re.compile(p) #transformacion a expresion regular\n",
    "    milista = len(list(filter(r.match, words))) #buscar conincidencias dentro del diccionario\n",
    "    print (\"Case #%d: %d\" % (i-d, milista)) #imprimir resultados\n",
    "    \n",
    "    \n",
    "       \n",
    "\n",
    "   "
   ]
  },
  {
   "cell_type": "code",
   "execution_count": null,
   "id": "3a2344bf",
   "metadata": {},
   "outputs": [],
   "source": []
  },
  {
   "cell_type": "code",
   "execution_count": null,
   "id": "352805bf",
   "metadata": {},
   "outputs": [],
   "source": []
  }
 ],
 "metadata": {
  "kernelspec": {
   "display_name": "Python 3",
   "language": "python",
   "name": "python3"
  },
  "language_info": {
   "codemirror_mode": {
    "name": "ipython",
    "version": 3
   },
   "file_extension": ".py",
   "mimetype": "text/x-python",
   "name": "python",
   "nbconvert_exporter": "python",
   "pygments_lexer": "ipython3",
   "version": "3.8.8"
  }
 },
 "nbformat": 4,
 "nbformat_minor": 5
}
